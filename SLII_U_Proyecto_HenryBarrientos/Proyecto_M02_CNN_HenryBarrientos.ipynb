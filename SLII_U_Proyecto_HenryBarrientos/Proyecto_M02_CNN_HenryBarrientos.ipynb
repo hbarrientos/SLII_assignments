{
  "nbformat": 4,
  "nbformat_minor": 0,
  "metadata": {
    "colab": {
      "name": "Proyecto_M02-CNN_HenryBarrientos.ipynb",
      "provenance": [],
      "collapsed_sections": []
    },
    "kernelspec": {
      "name": "python3",
      "display_name": "Python 3"
    },
    "language_info": {
      "name": "python"
    }
  },
  "cells": [
    {
      "cell_type": "markdown",
      "metadata": {
        "id": "INCsih-x-KKW"
      },
      "source": [
        "Universidad Galileo  \n",
        "Maestría en Data Science  \n",
        "Statistical Learning II\n",
        "Sección U  \n",
        "\n",
        "\n",
        "   # **Proyecto: Parte 2 - Convolutional Neural Network**\n",
        "\n",
        "\n",
        "<p style=\"text-align: right;\">\n",
        "Henry Giovanni<br/>\n",
        "Barrientos García<br/>\n",
        "21001538<br/>\n",
        "Guatemala, 24 de septiembre de 2021<br/>\n",
        "</p>"
      ]
    },
    {
      "cell_type": "markdown",
      "metadata": {
        "id": "cXX29FQtTHWZ"
      },
      "source": [
        "## Enlace para visualizar y validar en Google Collaboratory\n",
        "https://drive.google.com/drive/folders/16bevf2KxBDuzDQTIt_6Cj3Sl9L1Jlrjd?usp=sharing"
      ]
    },
    {
      "cell_type": "code",
      "metadata": {
        "id": "MojZT3XSZAsS"
      },
      "source": [
        "from keras.preprocessing.image import ImageDataGenerator, load_img, array_to_img, img_to_array\n",
        "from keras.models import Sequential\n",
        "from keras.layers import Dense, Conv2D, MaxPool2D, Flatten\n",
        "from google.colab import drive\n",
        "import numpy as np\n",
        "from skimage import transform"
      ],
      "execution_count": 37,
      "outputs": []
    },
    {
      "cell_type": "code",
      "metadata": {
        "colab": {
          "base_uri": "https://localhost:8080/"
        },
        "id": "Y1GOXBEvE60a",
        "outputId": "a2242616-5bb1-4334-d4a0-5353fa8527c2"
      },
      "source": [
        "!pip install pillow\n",
        "# !apt-get -qq install -y pillow"
      ],
      "execution_count": 34,
      "outputs": [
        {
          "output_type": "stream",
          "name": "stdout",
          "text": [
            "Requirement already satisfied: pillow in /usr/local/lib/python3.7/dist-packages (7.1.2)\n"
          ]
        }
      ]
    },
    {
      "cell_type": "code",
      "metadata": {
        "id": "l-ty3lu0Esp4"
      },
      "source": [
        "drive.mount(\"/content/drive\", force_remount=True)"
      ],
      "execution_count": null,
      "outputs": []
    },
    {
      "cell_type": "code",
      "metadata": {
        "id": "cSxIcHYnaBjd"
      },
      "source": [
        "path_train = \"/content/drive/MyDrive/SLII_U_Proyecto/dataset/train\"\n",
        "path_test  = \"/content/drive/MyDrive/SLII_U_Proyecto/dataset/test/\""
      ],
      "execution_count": 12,
      "outputs": []
    },
    {
      "cell_type": "code",
      "metadata": {
        "id": "qpGTYW87afS3"
      },
      "source": [
        "dataGen = ImageDataGenerator(\n",
        "  rescale = 1/255.,\n",
        "  shear_range = 0.2,\n",
        "  zoom_range = 0.2,\n",
        "  horizontal_flip = True\n",
        ")"
      ],
      "execution_count": 3,
      "outputs": []
    },
    {
      "cell_type": "code",
      "metadata": {
        "id": "BBySv8HSb9Z-"
      },
      "source": [
        "# Generador de imagenes de entrenamiento.\n",
        "\n",
        "# path = \"/content/drive/MyDrive/SLII_U_Proyecto/dataset/train/generated\"\n",
        "# for k in range(1,21):\n",
        "#   kk = (\"0\" if (k<10) else \"\") + str(k)\n",
        "#   img = load_img(\"/content/drive/MyDrive/SLII_U_Proyecto/dataset/train/dog\"+kk+\".jpg\")\n",
        "#   x = img_to_array(img)\n",
        "#   x = x.reshape((1,)+x.shape)\n",
        "\n",
        "#   i = 0\n",
        "#   for batch in dataGen.flow(x, batch_size=1, save_to_dir=path, save_prefix=\"dog\"+kk, save_format=\"jpg\"):\n",
        "#     i += 1\n",
        "#     if(i > 25):\n",
        "#       break"
      ],
      "execution_count": 19,
      "outputs": []
    },
    {
      "cell_type": "code",
      "metadata": {
        "colab": {
          "base_uri": "https://localhost:8080/"
        },
        "id": "sNdGgB5zd1yJ",
        "outputId": "9bf3c15d-71ee-42e3-f788-018c32350b7b"
      },
      "source": [
        "# set de entrenamiento\n",
        "train_datagen = ImageDataGenerator(\n",
        "                                rescale = 1/255.,\n",
        "                                shear_range = 0.2,\n",
        "                                zoom_range = 0.2,\n",
        "                                horizontal_flip = True)\n",
        "train_generator = train_datagen.flow_from_directory(path_train, \n",
        "                                               target_size=(64,64), \n",
        "                                               batch_size=32,\n",
        "                                               class_mode=\"binary\")"
      ],
      "execution_count": 20,
      "outputs": [
        {
          "output_type": "stream",
          "name": "stdout",
          "text": [
            "Found 519 images belonging to 1 classes.\n"
          ]
        }
      ]
    },
    {
      "cell_type": "code",
      "metadata": {
        "colab": {
          "base_uri": "https://localhost:8080/"
        },
        "id": "7frGvpRresZp",
        "outputId": "63bd3744-06c7-4b11-8dd6-7d329128ad21"
      },
      "source": [
        "# SET DE PRUEBA\n",
        "test_datagen = ImageDataGenerator(\n",
        "    rescale = 1/255.\n",
        ")\n",
        "test_generator = test_datagen.flow_from_directory(path_test, \n",
        "                                               target_size=(64,64), \n",
        "                                               batch_size=32, \n",
        "                                               class_mode=\"binary\")"
      ],
      "execution_count": 21,
      "outputs": [
        {
          "output_type": "stream",
          "name": "stdout",
          "text": [
            "Found 10 images belonging to 1 classes.\n"
          ]
        }
      ]
    },
    {
      "cell_type": "markdown",
      "metadata": {
        "id": "aV-mnUxZkp3l"
      },
      "source": [
        "# CNN"
      ]
    },
    {
      "cell_type": "code",
      "metadata": {
        "id": "cCQYtb9RkmsH"
      },
      "source": [
        "# Modelo convolucional\n",
        "cnn = Sequential()\n",
        "# primera capa de convolucion\n",
        "cnn.add(Conv2D(filters=32, \n",
        "               kernel_size=(3,3), input_shape=(64,64,3),\n",
        "               activation=\"relu\"\n",
        "               ))\n",
        "\n",
        "cnn.add(MaxPool2D(pool_size=(2,2)))\n",
        "cnn.add(Flatten())\n",
        "\n",
        "cnn.add(Dense(units=128, activation=\"relu\"))\n",
        "cnn.add(Dense(units=1, activation=\"sigmoid\")) #output"
      ],
      "execution_count": 22,
      "outputs": []
    },
    {
      "cell_type": "markdown",
      "metadata": {
        "id": "VX4JmzGzn0ns"
      },
      "source": [
        "## Parámetros de optimización"
      ]
    },
    {
      "cell_type": "code",
      "metadata": {
        "id": "nKA5lN2Kn30U"
      },
      "source": [
        "cnn.compile(optimizer=\"adam\", loss=\"binary_crossentropy\", metrics=[\"accuracy\"])"
      ],
      "execution_count": 23,
      "outputs": []
    },
    {
      "cell_type": "markdown",
      "metadata": {
        "id": "EbZF-HQgoDcF"
      },
      "source": [
        "## Parámetros de entrenamiento"
      ]
    },
    {
      "cell_type": "code",
      "metadata": {
        "colab": {
          "base_uri": "https://localhost:8080/"
        },
        "id": "EUzGH9_joHHo",
        "outputId": "8c7a152f-81cf-4554-a362-c4210fe24e59"
      },
      "source": [
        "cnn.fit(train_generator, steps_per_epoch=5, epochs=20, validation_data=test_generator, validation_steps=800)"
      ],
      "execution_count": 38,
      "outputs": [
        {
          "output_type": "stream",
          "name": "stdout",
          "text": [
            "Epoch 1/20\n",
            "5/5 [==============================] - ETA: 0s - loss: 3.2771e-35 - accuracy: 1.0000WARNING:tensorflow:Your input ran out of data; interrupting training. Make sure that your dataset or generator can generate at least `steps_per_epoch * epochs` batches (in this case, 800 batches). You may need to use the repeat() function when building your dataset.\n",
            "5/5 [==============================] - 4s 666ms/step - loss: 3.2771e-35 - accuracy: 1.0000 - val_loss: 0.0000e+00 - val_accuracy: 1.0000\n",
            "Epoch 2/20\n",
            "5/5 [==============================] - 4s 682ms/step - loss: 9.2607e-37 - accuracy: 1.0000\n",
            "Epoch 3/20\n",
            "5/5 [==============================] - 4s 915ms/step - loss: 7.6504e-37 - accuracy: 1.0000\n",
            "Epoch 4/20\n",
            "5/5 [==============================] - 4s 750ms/step - loss: 2.5018e-37 - accuracy: 1.0000\n",
            "Epoch 5/20\n",
            "5/5 [==============================] - 4s 682ms/step - loss: 1.0481e-37 - accuracy: 1.0000\n",
            "Epoch 6/20\n",
            "5/5 [==============================] - 4s 787ms/step - loss: 3.1965e-38 - accuracy: 1.0000\n",
            "Epoch 7/20\n",
            "5/5 [==============================] - 4s 783ms/step - loss: 2.9372e-38 - accuracy: 1.0000\n",
            "Epoch 8/20\n",
            "5/5 [==============================] - 4s 782ms/step - loss: 3.0552e-38 - accuracy: 1.0000\n",
            "Epoch 9/20\n",
            "5/5 [==============================] - 4s 773ms/step - loss: 2.9404e-38 - accuracy: 1.0000\n",
            "Epoch 10/20\n",
            "5/5 [==============================] - 3s 497ms/step - loss: 2.3849e-38 - accuracy: 1.0000\n",
            "Epoch 11/20\n",
            "5/5 [==============================] - 3s 699ms/step - loss: 3.7551e-38 - accuracy: 1.0000\n",
            "Epoch 12/20\n",
            "5/5 [==============================] - 4s 889ms/step - loss: 2.5686e-38 - accuracy: 1.0000\n",
            "Epoch 13/20\n",
            "5/5 [==============================] - 3s 578ms/step - loss: 5.8417e-38 - accuracy: 1.0000\n",
            "Epoch 14/20\n",
            "5/5 [==============================] - 4s 876ms/step - loss: 6.1714e-38 - accuracy: 1.0000\n",
            "Epoch 15/20\n",
            "5/5 [==============================] - 3s 585ms/step - loss: 5.1016e-38 - accuracy: 1.0000\n",
            "Epoch 16/20\n",
            "5/5 [==============================] - 3s 596ms/step - loss: 7.9025e-38 - accuracy: 1.0000\n",
            "Epoch 17/20\n",
            "5/5 [==============================] - 4s 785ms/step - loss: 2.7316e-38 - accuracy: 1.0000\n",
            "Epoch 18/20\n",
            "5/5 [==============================] - 4s 777ms/step - loss: 3.9778e-38 - accuracy: 1.0000\n",
            "Epoch 19/20\n",
            "5/5 [==============================] - 3s 655ms/step - loss: 6.7854e-38 - accuracy: 1.0000\n",
            "Epoch 20/20\n",
            "5/5 [==============================] - 4s 758ms/step - loss: 2.1684e-38 - accuracy: 1.0000\n"
          ]
        },
        {
          "output_type": "execute_result",
          "data": {
            "text/plain": [
              "<keras.callbacks.History at 0x7f3a88bac610>"
            ]
          },
          "metadata": {},
          "execution_count": 38
        }
      ]
    },
    {
      "cell_type": "markdown",
      "metadata": {
        "id": "EEUY_wW-EMBv"
      },
      "source": [
        "## Checkpoint del modelo"
      ]
    },
    {
      "cell_type": "code",
      "metadata": {
        "id": "1IXD0TYAo5Ti"
      },
      "source": [
        "cnn.save(\"/content/drive/MyDrive/SLII_U_Proyecto/dogs_cnn.h5\")"
      ],
      "execution_count": 28,
      "outputs": []
    },
    {
      "cell_type": "code",
      "metadata": {
        "id": "K3_IpCMPo9nb"
      },
      "source": [
        "# cargar modelo existente\n",
        "# cnnModel = keras.models.load_model(\"dir_path.h5\")"
      ],
      "execution_count": null,
      "outputs": []
    },
    {
      "cell_type": "code",
      "metadata": {
        "id": "hcfJQ-FspHdj"
      },
      "source": [
        "# funcion de prediccion\n",
        "from PIL import image\n",
        "def load_and_predit_img(filname, modelo):\n",
        "  np_image = Image.open(filname)\n",
        "  np_image = np.array(np_image).astype(\"float32\")/255\n",
        "  np_image = transfor_resize(np_image, (64,64,3))\n",
        "  np_image = np.expand_dims(np_image, axis=0)\n",
        "  prediction = model.predict(np_image)\n",
        "  return prediction[0][0]"
      ],
      "execution_count": null,
      "outputs": []
    },
    {
      "cell_type": "code",
      "metadata": {
        "id": "sQItmr5Jq4h5"
      },
      "source": [
        "img1 = \"/content/drive/MyDrive/SLII_U_Proyecto/dataset/dogpoop01.jpg\"\n",
        "img2 = \"/content/drive/MyDrive/SLII_U_Proyecto/dataset/dogpoop02.jpg\""
      ],
      "execution_count": 36,
      "outputs": []
    },
    {
      "cell_type": "code",
      "metadata": {
        "id": "VshyGsKtrMfZ"
      },
      "source": [
        "load_and_predict_img(img1, cnn)"
      ],
      "execution_count": null,
      "outputs": []
    },
    {
      "cell_type": "code",
      "metadata": {
        "id": "k8Qcl8bYrPbY"
      },
      "source": [
        "load_and_predict_img(img2, cnn)"
      ],
      "execution_count": null,
      "outputs": []
    }
  ]
}