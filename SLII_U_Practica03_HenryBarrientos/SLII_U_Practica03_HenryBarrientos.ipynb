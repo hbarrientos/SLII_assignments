{
 "cells": [
  {
   "cell_type": "markdown",
   "id": "1dad3d02",
   "metadata": {},
   "source": [
    "Universidad Galileo  \n",
    "Maestría en Data Science  \n",
    "Statistical Learning II\n",
    "Sección U  \n",
    "\n",
    "\n",
    "   # **Tarea Practica 3: Reducción de dimensionalidad**\n",
    "\n",
    "\n",
    "<p style=\"text-align: right;\">\n",
    "Henry Giovanni<br/>\n",
    "Barrientos García<br/>\n",
    "21001538<br/>\n",
    "Guatemala, 02 de agosto de 2021<br/>\n",
    "</p>"
   ]
  },
  {
   "cell_type": "code",
   "execution_count": null,
   "id": "530c8629",
   "metadata": {},
   "outputs": [],
   "source": [
    "import pandas as pd\n",
    "from sklearn.model_selection import train_test_split\n",
    "from sklearn.linear_model import LinearRegression\n",
    "from sklearn.preprocessing import PolynomialFeatures\n",
    "import matplotlib.pyplot as plt"
   ]
  },
  {
   "cell_type": "code",
   "execution_count": 13,
   "id": "482f4447",
   "metadata": {},
   "outputs": [],
   "source": [
    "dataset = pd.read_csv(\"estaturas.xlsx - normales.csv\")\n",
    "df = pd.DataFrame(dataset)\n",
    "x = df[\"Estatura(metros)\"]\n",
    "y = df[\"Edad(años)\"]\n",
    "\n",
    "x1 = df[\"Estatura(metros)\"]\n",
    "y1 = df[\"Edad(años)\"]\n",
    "\n",
    "x_train, x_test, y_train, y_test = train_test_split(x, y, test_size=0.25)\n",
    "x_train = x_train.values.reshape([x_train.values.shape[0], 1])\n",
    "x_test = x_test.values.reshape([x_test.values.shape[0], 1])"
   ]
  },
  {
   "cell_type": "code",
   "execution_count": 15,
   "id": "7ef12711",
   "metadata": {},
   "outputs": [
    {
     "data": {
      "image/png": "[encoded data removed]",
      "text/plain": [
       "<Figure size 432x288 with 6 Axes>"
      ]
     },
     "metadata": {
      "needs_background": "light"
     },
     "output_type": "display_data"
    }
   ],
   "source": [
    "colors = [\"limegreen\", \"darkorange\", \"goldenrod\", \"brown\", \"orange\", \"aqua\", \"peru\", \"navy\", \"royalblue\", \"turquoise\", \"cadetblue\"]\n",
    "\n",
    "for i in range(1,7):\n",
    "    poly_features = PolynomialFeatures(degree=i)\n",
    "    x_poly = poly_features.fit_transform(x_train)\n",
    "    xt_poly = poly_features.fit_transform(x_test)\n",
    "    poly_model = LinearRegression()\n",
    "    poly_model.fit(x_poly, y_train)\n",
    "    pred = poly_model.predict(x_poly)\n",
    "    pred2 = poly_model.predict(xt_poly)\n",
    "    xt, yt = zip(*sorted(zip(x_test, pred2)))\n",
    "    x, y  =  zip(*sorted(zip(x_train, pred)))\n",
    "    plt.subplot(2, 3, i)\n",
    "    plt.plot(x, y, \"-\", color=colors[i], label=\"Grado \"+str(i), markersize=2)\n",
    "    plt.plot(xt, yt, \"+\", color=\"r\", markersize=5)\n",
    "    plt.plot(x1, y1, \"*\", color=\"crimson\", markersize=.5)\n",
    "    plt.legend(loc=2)\n",
    "plt.show()"
   ]
  }
 ],
 "metadata": {
  "kernelspec": {
   "display_name": "Python 3",
   "language": "python",
   "name": "python3"
  },
  "language_info": {
   "codemirror_mode": {
    "name": "ipython",
    "version": 3
   },
   "file_extension": ".py",
   "mimetype": "text/x-python",
   "name": "python",
   "nbconvert_exporter": "python",
   "pygments_lexer": "ipython3",
   "version": "3.9.5"
  }
 },
 "nbformat": 4,
 "nbformat_minor": 5
}
