{
 "cells": [
  {
   "cell_type": "markdown",
   "id": "612dd502",
   "metadata": {},
   "source": [
    "Universidad Galileo  \n",
    "Maestría en Data Science  \n",
    "Statistical Learning II\n",
    "Sección U  \n",
    "\n",
    "\n",
    "   # **Practica 4: Backpropagation**\n",
    "\n",
    "\n",
    "<p style=\"text-align: right;\">\n",
    "Henry Giovanni<br/>\n",
    "Barrientos García<br/>\n",
    "21001538<br/>\n",
    "Guatemala, 19 de septiembre de 2021<br/>\n",
    "</p>"
   ]
  },
  {
   "cell_type": "code",
   "execution_count": 2,
   "id": "46c63005",
   "metadata": {},
   "outputs": [],
   "source": [
    "import numpy as np"
   ]
  },
  {
   "cell_type": "code",
   "execution_count": 3,
   "id": "03cb5a45",
   "metadata": {},
   "outputs": [],
   "source": [
    "def sigmoid(X):\n",
    "  return 1/(1 + np.exp(-X))\n",
    "\n",
    "def derivative_sigmoid(X):\n",
    "  return sigmoid(X)*(1 - sigmoid(X))"
   ]
  },
  {
   "cell_type": "markdown",
   "id": "d8769f15",
   "metadata": {},
   "source": [
    "![Artificial Neural Network](ann.png \"Imagen 1 - Base para backpropagation\")\n",
    "<center>Imagen 1 - Red neuronal base para backpropagation</center>"
   ]
  },
  {
   "cell_type": "code",
   "execution_count": 71,
   "id": "6e98f18e",
   "metadata": {},
   "outputs": [
    {
     "data": {
      "text/plain": [
       "array([0.61574177, 0.71000659])"
      ]
     },
     "execution_count": 71,
     "metadata": {},
     "output_type": "execute_result"
    }
   ],
   "source": [
    "# inputs = np.random.normal(0, 0.01, 3)\n",
    "all_inputs = [np.array([0.0005353, 0.01432892, 0.00888838])]\n",
    "# outputs = np.random.normal(0, 0.03, 2)\n",
    "observations = np.array([0.00289363, 0.01488721])\n",
    "\n",
    "layers = 2 + 1 # hidden + output\n",
    "weights_layer = [\n",
    "    [np.array([0.3, 0.46, 0.02]), \n",
    "     np.array([0.22, -0.7, 0.65]), \n",
    "     np.array([0.65, 0.9, 0.34])],\n",
    "    [np.array([-0.3, 0.62, 0.45]), np.array([0.45, 0.57, 0.48]), np.array([0.65, 0.58, -0.45])],\n",
    "    [np.array([-0.23, 0.22, 0.77]), np.array([0.9, 0.88, -0.4])]\n",
    "]\n",
    "weights_layer = [\n",
    "    np.array([[0.3, 0.46, 0.02], \n",
    "     [0.22, -0.7, 0.65], \n",
    "     [0.65, 0.9, 0.34]]),\n",
    "    np.array([[-0.3, 0.62, 0.45], [0.45, 0.57, 0.48], [0.65, 0.58, -0.45]]),\n",
    "    np.array([[-0.23, 0.22, 0.77], [0.9, 0.88, -0.4]])\n",
    "]\n",
    "\n",
    "for i in range(layers):\n",
    "    neurons = len(weights_layer[i])\n",
    "    tmp_h = []\n",
    "    pd = []\n",
    "    der_weights_neuro = []\n",
    "    for k in range(neurons):\n",
    "        # generate every h/z by layer\n",
    "        h = np.dot(all_inputs[i], weights_layer[i][k])\n",
    "        z = sigmoid(h)\n",
    "        tmp_h.append(z)\n",
    "        # chain rule: z=sigma(h); Grad_z= dh/dw * d/sigma(h)\n",
    "        tmp_partial_literal = []\n",
    "        for t in range(len(all_inputs[i])):\n",
    "            tmp_partial_literal.append(all_inputs[i][t])\n",
    "        # Cuando se evalue backpropagation, se debe multiplicar por la derivada de la funcion de activacion evaluada para\n",
    "        # los valores w1*x1 + ... + wn*xn.   derivative_sigmoid(h)\n",
    "        der_weights_neuro.append(np.array(tmp_partial_literal))        \n",
    "    all_inputs.append(np.array(tmp_h))\n",
    "\n",
    "# last position predicted value is\n",
    "predicted = all_inputs[-1]\n",
    "predicted"
   ]
  },
  {
   "cell_type": "code",
   "execution_count": 72,
   "id": "0435cdc5",
   "metadata": {},
   "outputs": [
    {
     "data": {
      "text/plain": [
       "0.42938689905656025"
      ]
     },
     "execution_count": 72,
     "metadata": {},
     "output_type": "execute_result"
    }
   ],
   "source": [
    "squared_error = (observations - predicted)**2\n",
    "total_error = (1/2)*np.sum(squared_error)\n",
    "total_error"
   ]
  },
  {
   "cell_type": "code",
   "execution_count": 68,
   "id": "7d85e133",
   "metadata": {},
   "outputs": [
    {
     "name": "stdout",
     "output_type": "stream",
     "text": [
      "all_inputs:\n"
     ]
    },
    {
     "data": {
      "text/plain": [
       "[array([0.0005353 , 0.01432892, 0.00888838]),\n",
       " array([0.50173241, 0.49896624, 0.50406642]),\n",
       " array([0.59523972, 0.6796453 , 0.59596889]),\n",
       " array([0.61574177, 0.71000659])]"
      ]
     },
     "execution_count": 68,
     "metadata": {},
     "output_type": "execute_result"
    }
   ],
   "source": [
    "print(\"all_inputs:\")\n",
    "all_inputs"
   ]
  },
  {
   "cell_type": "code",
   "execution_count": 81,
   "id": "db90eb55",
   "metadata": {},
   "outputs": [
    {
     "name": "stdout",
     "output_type": "stream",
     "text": [
      "weights_layer:\n"
     ]
    },
    {
     "data": {
      "text/plain": [
       "[array([[ 0.3 ,  0.46,  0.02],\n",
       "        [ 0.22, -0.7 ,  0.65],\n",
       "        [ 0.65,  0.9 ,  0.34]]),\n",
       " array([[-0.3 ,  0.62,  0.45],\n",
       "        [ 0.45,  0.57,  0.48],\n",
       "        [ 0.65,  0.58, -0.45]]),\n",
       " array([[-0.23,  0.22,  0.77],\n",
       "        [ 0.9 ,  0.88, -0.4 ]])]"
      ]
     },
     "execution_count": 81,
     "metadata": {},
     "output_type": "execute_result"
    }
   ],
   "source": [
    "print(\"weights_layer:\")\n",
    "weights_layer"
   ]
  },
  {
   "cell_type": "markdown",
   "id": "ab9e957c",
   "metadata": {},
   "source": [
    "## Backpropagation"
   ]
  },
  {
   "cell_type": "code",
   "execution_count": 85,
   "id": "19fb2df4",
   "metadata": {},
   "outputs": [
    {
     "name": "stdout",
     "output_type": "stream",
     "text": [
      "-----------------------------------------------\n",
      "-----------------------------------------------\n",
      "-----------------------------------------------\n"
     ]
    },
    {
     "ename": "ValueError",
     "evalue": "operands could not be broadcast together with shapes (3,) (3,2) ",
     "output_type": "error",
     "traceback": [
      "\u001b[1;31m---------------------------------------------------------------------------\u001b[0m",
      "\u001b[1;31mValueError\u001b[0m                                Traceback (most recent call last)",
      "\u001b[1;32mC:\\Users\\HBARRI~1\\AppData\\Local\\Temp/ipykernel_32304/3082922553.py\u001b[0m in \u001b[0;36m<module>\u001b[1;34m\u001b[0m\n\u001b[0;32m     22\u001b[0m         \u001b[1;32melse\u001b[0m\u001b[1;33m:\u001b[0m\u001b[1;33m\u001b[0m\u001b[1;33m\u001b[0m\u001b[0m\n\u001b[0;32m     23\u001b[0m             \u001b[1;31m#1\u001b[0m\u001b[1;33m\u001b[0m\u001b[1;33m\u001b[0m\u001b[1;33m\u001b[0m\u001b[0m\n\u001b[1;32m---> 24\u001b[1;33m             \u001b[0merror_i\u001b[0m \u001b[1;33m=\u001b[0m \u001b[0mweights_layer\u001b[0m\u001b[1;33m[\u001b[0m\u001b[0ml\u001b[0m\u001b[1;33m]\u001b[0m\u001b[1;33m[\u001b[0m\u001b[1;33m:\u001b[0m\u001b[1;33m,\u001b[0m\u001b[0mr\u001b[0m\u001b[1;33m]\u001b[0m \u001b[1;33m*\u001b[0m \u001b[0mcum_error\u001b[0m\u001b[1;33m[\u001b[0m\u001b[1;33m-\u001b[0m\u001b[1;36m1\u001b[0m\u001b[1;33m]\u001b[0m\u001b[1;33m\u001b[0m\u001b[1;33m\u001b[0m\u001b[0m\n\u001b[0m\u001b[0;32m     25\u001b[0m             \u001b[1;31m#2\u001b[0m\u001b[1;33m\u001b[0m\u001b[1;33m\u001b[0m\u001b[1;33m\u001b[0m\u001b[0m\n\u001b[0;32m     26\u001b[0m             \u001b[0mhr\u001b[0m \u001b[1;33m=\u001b[0m \u001b[0mnp\u001b[0m\u001b[1;33m.\u001b[0m\u001b[0mdot\u001b[0m\u001b[1;33m(\u001b[0m\u001b[0mall_inputs\u001b[0m\u001b[1;33m[\u001b[0m\u001b[0ml\u001b[0m\u001b[1;33m-\u001b[0m\u001b[1;36m1\u001b[0m\u001b[1;33m]\u001b[0m\u001b[1;33m,\u001b[0m \u001b[0mweights_layer\u001b[0m\u001b[1;33m[\u001b[0m\u001b[0ml\u001b[0m\u001b[1;33m-\u001b[0m\u001b[1;36m1\u001b[0m\u001b[1;33m]\u001b[0m\u001b[1;33m[\u001b[0m\u001b[0mr\u001b[0m\u001b[1;33m]\u001b[0m\u001b[1;33m)\u001b[0m\u001b[1;33m\u001b[0m\u001b[1;33m\u001b[0m\u001b[0m\n",
      "\u001b[1;31mValueError\u001b[0m: operands could not be broadcast together with shapes (3,) (3,2) "
     ]
    }
   ],
   "source": [
    "new_weights_layer = []\n",
    "alpha = 0.005\n",
    "lys = layers + 1 # +1 por el output\n",
    "cum_error = []\n",
    "for l in reversed(range(1, lys)):\n",
    "    neurons = all_inputs[l]\n",
    "    curr_error = []\n",
    "    newweights = []\n",
    "    print(\"-----------------------------------------------\")\n",
    "    for r in range(len(neurons)):\n",
    "        if (l == layers):\n",
    "            error_i = -(observations[r] - predicted[r])\n",
    "            hr = np.dot(all_inputs[l-1], weights_layer[l-1][r])\n",
    "            z = sigmoid(hr)\n",
    "            der_af = z * (1 - z)      # activation function derivate\n",
    "            df_dwi = all_inputs[l][r] # function's partial derivate: x1*w1 + ... + xn*wn\n",
    "            gradient = error_i * der_af * df_dwi\n",
    "#             print(\">\", gradient)\n",
    "#             print(\">>>\", (weights_layer[l-1][r] - alpha*gradient))\n",
    "            curr_error.append(error_i * der_af)\n",
    "            newweights.append(weights_layer[l-1][r] - alpha*gradient)\n",
    "        else:\n",
    "            #1\n",
    "            error_i = weights_layer[l][:,r] * cum_error[-1]\n",
    "            #2\n",
    "            hr = np.dot(all_inputs[l-1], weights_layer[l-1][r])\n",
    "            z = sigmoid(hr)\n",
    "            der_af = z * (1 - z)      # activation function derivate\n",
    "            #3\n",
    "            df_dwi = all_inputs[l][r] # function's partial derivate: x1*w1 + ... + xn*wn\n",
    "            gradient = der_af * df_dwi\n",
    "#             print(\">\", gradient)\n",
    "#             print(\">>>\", (weights_layer[l-1][r] - alpha*gradient))\n",
    "            curr_error.append(error_i * der_af)\n",
    "            newweights.append(weights_layer[l-1][r] - alpha*gradient)\n",
    "    cum_error.append(np.array(curr_error))\n",
    "    new_weights_layer.append(np.array(newweights))\n"
   ]
  },
  {
   "cell_type": "code",
   "execution_count": 87,
   "id": "97e7f09d",
   "metadata": {},
   "outputs": [
    {
     "name": "stdout",
     "output_type": "stream",
     "text": [
      "weights_layer:\n"
     ]
    },
    {
     "data": {
      "text/plain": [
       "[array([[ 0.3 ,  0.46,  0.02],\n",
       "        [ 0.22, -0.7 ,  0.65],\n",
       "        [ 0.65,  0.9 ,  0.34]]),\n",
       " array([[-0.3 ,  0.62,  0.45],\n",
       "        [ 0.45,  0.57,  0.48],\n",
       "        [ 0.65,  0.58, -0.45]]),\n",
       " array([[-0.23,  0.22,  0.77],\n",
       "        [ 0.9 ,  0.88, -0.4 ]])]"
      ]
     },
     "execution_count": 87,
     "metadata": {},
     "output_type": "execute_result"
    }
   ],
   "source": [
    "print(\"weights_layer:\")\n",
    "weights_layer"
   ]
  },
  {
   "cell_type": "code",
   "execution_count": 88,
   "id": "3f94586f",
   "metadata": {
    "scrolled": true
   },
   "outputs": [
    {
     "name": "stdout",
     "output_type": "stream",
     "text": [
      "new_weights_layer:\n"
     ]
    },
    {
     "data": {
      "text/plain": [
       "[array([[-0.30071705,  0.61928295,  0.44928295],\n",
       "        [ 0.44926011,  0.56926011,  0.47926011],\n",
       "        [ 0.64928248,  0.57928248, -0.45071752]]),\n",
       " array([[-0.23044642,  0.21955358,  0.76955358],\n",
       "        [ 0.89949191,  0.87949191, -0.40050809]])]"
      ]
     },
     "execution_count": 88,
     "metadata": {},
     "output_type": "execute_result"
    }
   ],
   "source": [
    "print(\"new_weights_layer:\")\n",
    "list(reversed(new_weights_layer))"
   ]
  }
 ],
 "metadata": {
  "kernelspec": {
   "display_name": "Python 3 (ipykernel)",
   "language": "python",
   "name": "python3"
  },
  "language_info": {
   "codemirror_mode": {
    "name": "ipython",
    "version": 3
   },
   "file_extension": ".py",
   "mimetype": "text/x-python",
   "name": "python",
   "nbconvert_exporter": "python",
   "pygments_lexer": "ipython3",
   "version": "3.7.11"
  }
 },
 "nbformat": 4,
 "nbformat_minor": 5
}
