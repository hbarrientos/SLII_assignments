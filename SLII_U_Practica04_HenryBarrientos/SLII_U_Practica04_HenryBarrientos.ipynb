{
 "cells": [
  {
   "cell_type": "markdown",
   "id": "82d3eebe",
   "metadata": {},
   "source": [
    "Universidad Galileo  \n",
    "Maestría en Data Science  \n",
    "Statistical Learning II\n",
    "Sección U  \n",
    "\n",
    "\n",
    "   # **Practica 4: Backpropagation**\n",
    "\n",
    "\n",
    "<p style=\"text-align: right;\">\n",
    "Henry Giovanni<br/>\n",
    "Barrientos García<br/>\n",
    "21001538<br/>\n",
    "Guatemala, 19 de septiembre de 2021<br/>\n",
    "</p>"
   ]
  },
  {
   "cell_type": "code",
   "execution_count": 9,
   "id": "7c0345b7",
   "metadata": {},
   "outputs": [],
   "source": [
    "import numpy as np"
   ]
  },
  {
   "cell_type": "code",
   "execution_count": 42,
   "id": "782cb1c7",
   "metadata": {},
   "outputs": [],
   "source": [
    "def sigmoid(X):\n",
    "  return 1/(1 + np.exp(-X))\n",
    "\n",
    "def derivative_sigmoid(X):\n",
    "  return sigmoid(X)*(1 - sigmoid(X))"
   ]
  },
  {
   "cell_type": "markdown",
   "id": "a13fd7dd",
   "metadata": {},
   "source": [
    "![Artificial Neural Network](ann.png \"Imagen 1 - Base para backpropagation\")\n",
    "<center>Imagen 1 - Red neuronal base para backpropagation</center>"
   ]
  },
  {
   "cell_type": "code",
   "execution_count": 57,
   "id": "339f9eec",
   "metadata": {},
   "outputs": [
    {
     "data": {
      "text/plain": [
       "array([0.61574177, 0.71000659])"
      ]
     },
     "execution_count": 57,
     "metadata": {},
     "output_type": "execute_result"
    }
   ],
   "source": [
    "# inputs = np.random.normal(0, 0.01, 3)\n",
    "all_inputs = [np.array([0.0005353, 0.01432892, 0.00888838])]\n",
    "# outputs = np.random.normal(0, 0.03, 2)\n",
    "observations = np.array([0.00289363, 0.01488721])\n",
    "\n",
    "layers = 2 + 1 # hidden + output\n",
    "weights_layer = [\n",
    "    [np.array([0.3, 0.46, 0.02]), \n",
    "     np.array([0.22, -0.7, 0.65]), \n",
    "     np.array([0.65, 0.9, 0.34])],\n",
    "    [np.array([-0.3, 0.62, 0.45]), np.array([0.45, 0.57, 0.48]), np.array([0.65, 0.58, -0.45])],\n",
    "    [np.array([-0.23, 0.22, 0.77]), np.array([0.9, 0.88, -0.4])]\n",
    "]\n",
    "\n",
    "partial_derivatives_layer = []\n",
    "\n",
    "for i in range(layers):\n",
    "    neurons = len(weights_layer[i])\n",
    "    tmp_h = []\n",
    "    pd = []\n",
    "    der_weights_neuro = []\n",
    "    for k in range(neurons):\n",
    "        # generate every h/z by layer\n",
    "        h = np.dot(all_inputs[i], weights_layer[i][k])\n",
    "        z = sigmoid(h)\n",
    "        tmp_h.append(z)\n",
    "        # chain rule: z=sigma(h); Grad_z= dh/dw * d/sigma(h)\n",
    "        tmp_partial_literal = []\n",
    "        for t in range(len(all_inputs[i])):\n",
    "            tmp_partial_literal.append(all_inputs[i][t])\n",
    "        # Cuando se evalue backpropagation, se debe multiplicar por la derivada de la funcion de activacion evaluada para\n",
    "        # los valores w1*x1 + ... + wn*xn.   derivative_sigmoid(h)\n",
    "        der_weights_neuro.append(np.array(tmp_partial_literal))\n",
    "        \n",
    "#         partial_derivatives.append(np.array([\n",
    "#             all_inputs[i][0],\n",
    "#             all_inputs[i][1],\n",
    "#             all_inputs[i][2],\n",
    "#         ]))\n",
    "    partial_derivatives_layer.append(der_weights_neuro)\n",
    "    all_inputs.append(np.array(tmp_h))\n",
    "\n",
    "# last position predicted value is\n",
    "predicted = all_inputs[-1]\n",
    "predicted"
   ]
  },
  {
   "cell_type": "code",
   "execution_count": 58,
   "id": "daa14d61",
   "metadata": {},
   "outputs": [
    {
     "data": {
      "text/plain": [
       "0.42938689905656025"
      ]
     },
     "execution_count": 58,
     "metadata": {},
     "output_type": "execute_result"
    }
   ],
   "source": [
    "squared_error = (observations - predicted)**2\n",
    "total_error = (1/2)*np.sum(squared_error)\n",
    "total_error"
   ]
  },
  {
   "cell_type": "code",
   "execution_count": 59,
   "id": "ee2d4c2e",
   "metadata": {},
   "outputs": [
    {
     "name": "stdout",
     "output_type": "stream",
     "text": [
      "Derivadas parciales en cada neurona:\n"
     ]
    },
    {
     "data": {
      "text/plain": [
       "[[array([0.0005353 , 0.01432892, 0.00888838]),\n",
       "  array([0.0005353 , 0.01432892, 0.00888838]),\n",
       "  array([0.0005353 , 0.01432892, 0.00888838])],\n",
       " [array([0.50173241, 0.49896624, 0.50406642]),\n",
       "  array([0.50173241, 0.49896624, 0.50406642]),\n",
       "  array([0.50173241, 0.49896624, 0.50406642])],\n",
       " [array([0.59523972, 0.6796453 , 0.59596889]),\n",
       "  array([0.59523972, 0.6796453 , 0.59596889])]]"
      ]
     },
     "execution_count": 59,
     "metadata": {},
     "output_type": "execute_result"
    }
   ],
   "source": [
    "print(\"Derivadas parciales en cada neurona:\")\n",
    "partial_derivatives_layer"
   ]
  },
  {
   "cell_type": "markdown",
   "id": "3bb6706b",
   "metadata": {},
   "source": [
    "## Backpropagation"
   ]
  },
  {
   "cell_type": "code",
   "execution_count": 72,
   "id": "0b0baa7e",
   "metadata": {},
   "outputs": [
    {
     "name": "stdout",
     "output_type": "stream",
     "text": [
      "S::: [7.76196911e-05 2.07772528e-03 1.28883488e-03]\n",
      "S::: [0.00012665 0.00339028 0.00210302]\n",
      "S::: [0.00012665 0.00339028 0.00210302]\n",
      "S::: [0.10330531 0.10273577 0.10378588]\n",
      "S::: [0.10330531 0.10273577 0.10378588]\n",
      "S::: [0.10330531 0.10273577 0.10378588]\n",
      "S::: [0.00012897 0.00345226 0.00214147]\n",
      "S::: [0.00012897 0.00345226 0.00214147]\n",
      "S::: [0.00012897 0.00345226 0.00214147]\n",
      "S::: [0.10924098 0.10863871 0.10974915]\n",
      "S::: [0.10924098 0.10863871 0.10974915]\n",
      "S::: [0.10924098 0.10863871 0.10974915]\n",
      "S::: [0.14332776 0.16365177 0.14350333]\n",
      "S::: [0.14332776 0.16365177 0.14350333]\n",
      "S::: [0.00013382 0.00358219 0.00222207]\n",
      "S::: [0.00013382 0.00358219 0.00222207]\n",
      "S::: [0.00013382 0.00358219 0.00222207]\n",
      "S::: [0.12543257 0.12474103 0.12601607]\n",
      "S::: [0.12543257 0.12474103 0.12601607]\n",
      "S::: [0.12543257 0.12474103 0.12601607]\n",
      "S::: [0.14880009 0.16990009 0.14898237]\n",
      "S::: [0.14880009 0.16990009 0.14898237]\n",
      "S::: [2.86392702e-07 7.66616498e-06 4.75540288e-06]\n",
      "S::: [2.86392702e-07 7.66616498e-06 4.75540288e-06]\n",
      "S::: [2.86392702e-07 7.66616498e-06 4.75540288e-06]\n",
      "S::: [0.00708627 0.0070472  0.00711923]\n",
      "S::: [0.00708627 0.0070472  0.00711923]\n",
      "S::: [0.00708627 0.0070472  0.00711923]\n",
      "S::: [0.00524369 0.00598725 0.00525011]\n",
      "S::: [0.00524369 0.00598725 0.00525011]\n"
     ]
    }
   ],
   "source": [
    "e0 = -(observations[0] - predicted[0])\n",
    "e1 = -(observations[1] - predicted[1])\n",
    "\n",
    "for l in reversed(range(layers+1)): # +1 por el output\n",
    "    neurons = all_inputs[l]\n",
    "    for r in range(len(neurons)):\n",
    "        if (l == layers+1):\n",
    "            hr = np.dot(all_inputs[l], weights_layer[l][r])\n",
    "            z = sigmoid(hr)\n",
    "            der_z = z(1-z) * all_inputs[l][]\n",
    "    \n",
    "    for r in range(len(neurons)):\n",
    "        v = all_inputs[l][r]\n",
    "        v = v*(1-v) #derivada de funcion de costo\n",
    "        if (l == layers+1):\n",
    "            h = np.dot(all_inputs[i], weights_layer[i][k])\n",
    "            z = sigmoid(h)\n",
    "        \n",
    "            for k in range(len(partial_derivatives_layer[r])):\n",
    "                s = partial_derivatives_layer[r][k]\n",
    "                s = e0*v*s\n",
    "                print(\"S:::\", s)\n",
    "                e0=1\n"
   ]
  },
  {
   "cell_type": "code",
   "execution_count": 69,
   "id": "3fe544d1",
   "metadata": {},
   "outputs": [
    {
     "data": {
      "text/plain": [
       "[array([0.0005353 , 0.01432892, 0.00888838]),\n",
       " array([0.50173241, 0.49896624, 0.50406642]),\n",
       " array([0.59523972, 0.6796453 , 0.59596889]),\n",
       " array([0.61574177, 0.71000659])]"
      ]
     },
     "execution_count": 69,
     "metadata": {},
     "output_type": "execute_result"
    }
   ],
   "source": [
    "len(all_inputs[0])\n",
    "all_inputs#[0][1]"
   ]
  },
  {
   "cell_type": "code",
   "execution_count": null,
   "id": "e422d14d",
   "metadata": {},
   "outputs": [],
   "source": []
  }
 ],
 "metadata": {
  "kernelspec": {
   "display_name": "Python 3 (ipykernel)",
   "language": "python",
   "name": "python3"
  },
  "language_info": {
   "codemirror_mode": {
    "name": "ipython",
    "version": 3
   },
   "file_extension": ".py",
   "mimetype": "text/x-python",
   "name": "python",
   "nbconvert_exporter": "python",
   "pygments_lexer": "ipython3",
   "version": "3.7.11"
  }
 },
 "nbformat": 4,
 "nbformat_minor": 5
}
