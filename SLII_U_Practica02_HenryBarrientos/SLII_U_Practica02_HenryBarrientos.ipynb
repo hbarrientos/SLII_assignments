{
 "cells": [
  {
   "cell_type": "markdown",
   "id": "1dad3d02",
   "metadata": {},
   "source": [
    "Universidad Galileo  \n",
    "Maestría en Data Science  \n",
    "Statistical Learning II\n",
    "Sección U  \n",
    "\n",
    "\n",
    "   # **Tarea Practica 2: Detección de anomalias y reducción de dimensionalidad**\n",
    "\n",
    "\n",
    "<p style=\"text-align: right;\">\n",
    "Henry Giovanni<br/>\n",
    "Barrientos García<br/>\n",
    "21001538<br/>\n",
    "Guatemala, 28 de julio de 2021<br/>\n",
    "</p>"
   ]
  },
  {
   "cell_type": "code",
   "execution_count": 3,
   "id": "482f4447",
   "metadata": {},
   "outputs": [],
   "source": [
    "import numpy as np\n",
    "import matplotlib.pyplot as plt\n",
    "\n",
    "import pandas\n",
    "%matplotlib inline\n",
    "from numpy import genfromtxt\n",
    "from scipy.stats import multivariate_normal\n",
    "from sklearn.metrics import f1_score"
   ]
  },
  {
   "cell_type": "code",
   "execution_count": 18,
   "id": "cc9ebcec",
   "metadata": {},
   "outputs": [],
   "source": [
    "dataset = np.loadtxt(\"estaturas.xlsx - normales.csv\", delimiter=',', skiprows=1)\n",
    "dataset_cv = np.loadtxt(\"estaturas.xlsx - valtest(normales).csv\", delimiter=',', skiprows=1)\n",
    "dataset_cv = np.array_split(dataset_cv, 2)[0]\n",
    "dataset_tg = np.zeros(dataset_cv.shape[0])\n",
    "# dataset_tg = np.loadtxt(\"estaturas.xlsx - valtest(anomalias).csv\", delimiter=',', skiprows=1)\n",
    "# dataset_tg = np.array_split(dataset_tg, 2)[0]\n",
    "ds_rows = np.shape(dataset)[0]\n",
    "ds_cols = np.shape(dataset)[1]"
   ]
  },
  {
   "cell_type": "code",
   "execution_count": 8,
   "id": "55e41024",
   "metadata": {},
   "outputs": [
    {
     "data": {
      "image/png": "[encoded data removed]",
      "text/plain": [
       "<Figure size 432x288 with 1 Axes>"
      ]
     },
     "metadata": {
      "needs_background": "light"
     },
     "output_type": "display_data"
    }
   ],
   "source": [
    "plt.xlabel('Height')\n",
    "plt.ylabel('Age')\n",
    "plt.plot(dataset[:,0], dataset[:,1], 'bo')\n",
    "plt.show()"
   ]
  },
  {
   "cell_type": "code",
   "execution_count": 9,
   "id": "5860ea62",
   "metadata": {},
   "outputs": [],
   "source": [
    "def estimateGaussian(dataset):\n",
    "    mu = np.mean(dataset, axis=0)\n",
    "    sigma = np.cov(dataset.T)\n",
    "    return mu, sigma\n",
    "    \n",
    "def multivariateGaussian(dataset, mu, sigma):\n",
    "    p = multivariate_normal(mean=mu, cov=sigma)\n",
    "    return p.pdf(dataset)\n",
    "\n",
    "def selectThresholdByCV(probs, gt):\n",
    "    best_epsilon = 0\n",
    "    best_f1 = 0\n",
    "    f = 0\n",
    "    stepsize = (max(probs) - min(probs)) / 1000\n",
    "    epsilons = np.arange(min(probs), max(probs), stepsize)\n",
    "    for epsilon in np.nditer(epsilons):\n",
    "        predictions = (probs < epsilon) \n",
    "        #print(predictions)\n",
    "        f = f1_score(gt, predictions, average='binary')\n",
    "        #print(f)\n",
    "        #print('------')\n",
    "        if f > best_f1:\n",
    "            #print('----')\n",
    "            best_f1 = f\n",
    "            best_epsilon = epsilon\n",
    "    return best_f1, best_epsilon"
   ]
  },
  {
   "cell_type": "code",
   "execution_count": 11,
   "id": "a598008c",
   "metadata": {},
   "outputs": [],
   "source": [
    "mu, sigma = estimateGaussian(dataset)\n",
    "p = multivariateGaussian(dataset, mu, sigma)"
   ]
  },
  {
   "cell_type": "code",
   "execution_count": 19,
   "id": "fa79b182",
   "metadata": {},
   "outputs": [
    {
     "name": "stderr",
     "output_type": "stream",
     "text": [
      "C:\\Users\\hbarrientosg\\Anaconda3\\envs\\TareasSLII\\lib\\site-packages\\sklearn\\metrics\\_classification.py:1495: UndefinedMetricWarning: F-score is ill-defined and being set to 0.0 due to no true nor predicted samples. Use `zero_division` parameter to control this behavior.\n",
      "  _warn_prf(\n"
     ]
    },
    {
     "name": "stdout",
     "output_type": "stream",
     "text": [
      "0\n"
     ]
    }
   ],
   "source": [
    "#selecting optimal value of epsilon using cross validation\n",
    "p_cv = multivariateGaussian(dataset_cv, mu, sigma)\n",
    "fscore, ep = selectThresholdByCV(p_cv, dataset_tg)\n",
    "print(ep)"
   ]
  },
  {
   "cell_type": "code",
   "execution_count": 17,
   "id": "b21af6ae",
   "metadata": {},
   "outputs": [
    {
     "data": {
      "text/plain": [
       "array([0., 0., 0., 0.])"
      ]
     },
     "execution_count": 17,
     "metadata": {},
     "output_type": "execute_result"
    }
   ],
   "source": []
  }
 ],
 "metadata": {
  "kernelspec": {
   "display_name": "Python 3",
   "language": "python",
   "name": "python3"
  },
  "language_info": {
   "codemirror_mode": {
    "name": "ipython",
    "version": 3
   },
   "file_extension": ".py",
   "mimetype": "text/x-python",
   "name": "python",
   "nbconvert_exporter": "python",
   "pygments_lexer": "ipython3",
   "version": "3.9.5"
  }
 },
 "nbformat": 4,
 "nbformat_minor": 5
}
