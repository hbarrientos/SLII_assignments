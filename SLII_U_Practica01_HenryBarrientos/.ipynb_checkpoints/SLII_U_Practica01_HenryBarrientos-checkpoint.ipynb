{
 "cells": [
  {
   "cell_type": "markdown",
   "id": "1dad3d02",
   "metadata": {},
   "source": [
    "Universidad Galileo  \n",
    "Maestría en Data Science  \n",
    "Statistical Learning II\n",
    "Sección U  \n",
    "\n",
    "\n",
    "   # **Tarea Practica 1: Clustering k-means y GMM**\n",
    "\n",
    "\n",
    "<p style=\"text-align: right;\">\n",
    "Henry Giovanni<br/>\n",
    "Barrientos García<br/>\n",
    "21001538<br/>\n",
    "Guatemala, 19 de julio de 2021<br/>\n",
    "</p>"
   ]
  },
  {
   "cell_type": "code",
   "execution_count": 21,
   "id": "482f4447",
   "metadata": {},
   "outputs": [],
   "source": [
    "import numpy as np\n",
    "import random\n",
    "import matplotlib.pyplot as plt"
   ]
  },
  {
   "cell_type": "code",
   "execution_count": 4,
   "id": "cc9ebcec",
   "metadata": {},
   "outputs": [],
   "source": [
    "dataset = np.loadtxt(\"estaturas.xlsx - normales.csv\", delimiter=',', skiprows=1)\n",
    "ds_rows = np.shape(dataset)[0]\n",
    "ds_cols = np.shape(dataset)[1]"
   ]
  },
  {
   "cell_type": "code",
   "execution_count": 18,
   "id": "7ed1e595",
   "metadata": {},
   "outputs": [],
   "source": [
    "observed_by_cluster = []\n",
    "checkpoint_at = 30\n",
    "\n",
    "def get_points_clusters(k, num_test):\n",
    "    cluster_points = np.empty((0, 2))\n",
    "    if (num_test >= 2):\n",
    "        #Determinar los nuevos puntos de clusters basado en la media de los puntos obtenidos en la ultima iteracion.\n",
    "        for i in range(k):\n",
    "            mean_h = np.mean(observed_by_cluster[i][:, 0])\n",
    "            mean_a = np.mean(observed_by_cluster[i][:, 1])\n",
    "            cluster_points = np.append(cluster_points, [[mean_h, mean_a]], axis=0)\n",
    "    else:\n",
    "        # en la primera iteracion, determinar los puntos de los clusters mediante un random\n",
    "        min_h = np.min(dataset[:,0])\n",
    "        max_h = np.max(dataset[:,0])\n",
    "        min_a = np.min(dataset[:,1])\n",
    "        max_a = np.max(dataset[:,1])\n",
    "        for i in range(k):\n",
    "            random_h = random.uniform(min_h, max_h)\n",
    "            random_a = random.randint(min_a, max_a)\n",
    "            cluster_points = np.append(cluster_points, [[random_h, random_a]], axis=0)\n",
    "    if ((num_test%checkpoint_at) == 0):\n",
    "        print(\"kmeans CENTROIDS\\n\", cluster_points)\n",
    "    return cluster_points"
   ]
  },
  {
   "cell_type": "code",
   "execution_count": 28,
   "id": "2433c596",
   "metadata": {},
   "outputs": [
    {
     "name": "stdout",
     "output_type": "stream",
     "text": [
      "\n",
      "\n",
      "kmeans *** PRUEBA: 0 ***\n",
      "kmeans CENTROIDS\n",
      " [[ 1.74281913 33.28168116]]\n",
      "kmeans iteration 20\n",
      "kmeans CENTROIDS\n",
      " [[ 1.74230215 33.09130435]]\n",
      "kmeans iteration 40\n",
      "kmeans CENTROIDS\n",
      " [[ 1.74183499 32.91927711]]\n",
      "kmeans iteration 60\n",
      "kmeans CENTROIDS\n",
      " [[ 1.74141079 32.76306847]]\n",
      "kmeans centroids: [[ 1.74141079 32.76306847]]\n",
      "kmeans points_clusters: [[ 1.74143108 32.77053697]]\n",
      "kmeans ***********punto de salida @ 80\n",
      "\n",
      "\n",
      "\n",
      "\n",
      "kmeans *** PRUEBA: 1 ***\n",
      "kmeans CENTROIDS\n",
      " [[ 1.74138219 32.80652291]\n",
      " [ 1.73020082 25.5123131 ]]\n",
      "kmeans iteration 20\n",
      "kmeans CENTROIDS\n",
      " [[ 1.74137881 32.86380985]\n",
      " [ 1.7301464  25.51313334]]\n",
      "kmeans iteration 40\n",
      "kmeans CENTROIDS\n",
      " [[ 1.74137554 32.91924521]\n",
      " [ 1.73009421 25.51392013]]\n",
      "kmeans iteration 60\n",
      "kmeans CENTROIDS\n",
      " [[ 1.74137237 32.97291735]\n",
      " [ 1.7300441  25.51467549]]\n",
      "kmeans centroids: [[ 1.74137237 32.97291735]\n",
      " [ 1.7300441  25.51467549]]\n",
      "kmeans points_clusters: [[ 1.74137253 32.97027432]\n",
      " [ 1.73004655 25.51463844]]\n",
      "kmeans ***********punto de salida @ 80\n",
      "\n",
      "\n",
      "\n",
      "\n",
      "kmeans *** PRUEBA: 2 ***\n",
      "kmeans CENTROIDS\n",
      " [[ 1.74159595 33.03007728]\n",
      " [ 1.73014726 25.51171293]\n",
      " [ 1.69876863 31.71662346]]\n",
      "kmeans iteration 20\n",
      "kmeans CENTROIDS\n",
      " [[ 1.7418347  33.08924077]\n",
      " [ 1.7302643  25.50784574]\n",
      " [ 1.6980038  31.69122307]]\n",
      "kmeans iteration 40\n",
      "kmeans CENTROIDS\n",
      " [[ 1.74206826 33.14711874]\n",
      " [ 1.7303772  25.50411496]\n",
      " [ 1.69727216 31.66692498]]\n",
      "kmeans iteration 60\n",
      "kmeans CENTROIDS\n",
      " [[ 1.74229681 33.20375263]\n",
      " [ 1.7304862  25.50051348]\n",
      " [ 1.6965716  31.64365898]]\n",
      "kmeans centroids: [[ 1.74229681 33.20375263]\n",
      " [ 1.7304862  25.50051348]\n",
      " [ 1.6965716  31.64365898]]\n",
      "kmeans points_clusters: [[ 1.7422855  33.20094986]\n",
      " [ 1.73048084 25.50069059]\n",
      " [ 1.69660592 31.64479879]]\n",
      "kmeans ***********punto de salida @ 80\n",
      "\n",
      "\n",
      "\n",
      "\n",
      "kmeans *** PRUEBA: 3 ***\n",
      "kmeans CENTROIDS\n",
      " [[ 1.7424151  33.21843883]\n",
      " [ 1.73057689 25.50020513]\n",
      " [ 1.69598899 31.62613484]\n",
      " [ 1.80727423 48.72659486]]\n",
      "kmeans iteration 20\n",
      "kmeans CENTROIDS\n",
      " [[ 1.74254586 33.23346269]\n",
      " [ 1.73067893 25.49678841]\n",
      " [ 1.69534189 31.60460709]\n",
      " [ 1.80582478 48.70797159]]\n",
      "kmeans iteration 40\n",
      "kmeans CENTROIDS\n",
      " [[ 1.74267457 33.24824991]\n",
      " [ 1.73077761 25.4934843 ]\n",
      " [ 1.69472067 31.58394056]\n",
      " [ 1.80450641 48.6910324 ]]\n",
      "kmeans iteration 60\n",
      "kmeans CENTROIDS\n",
      " [[ 1.74280127 33.26280604]\n",
      " [ 1.73087309 25.49028733]\n",
      " [ 1.69412383 31.56408461]\n",
      " [ 1.80330209 48.67555876]]\n",
      "kmeans centroids: [[ 1.74280127 33.26280604]\n",
      " [ 1.73087309 25.49028733]\n",
      " [ 1.69412383 31.56408461]\n",
      " [ 1.80330209 48.67555876]]\n",
      "kmeans points_clusters: [[ 1.74279498 33.26208364]\n",
      " [ 1.73086839 25.49044471]\n",
      " [ 1.69415311 31.56505889]\n",
      " [ 1.80335983 48.67630058]]\n",
      "kmeans ***********punto de salida @ 80\n",
      "\n",
      "\n",
      "\n",
      "\n",
      "kmeans *** PRUEBA: 4 ***\n",
      "kmeans CENTROIDS\n",
      " [[ 1.74286713 33.26742329]\n",
      " [ 1.73096047 25.48952539]\n",
      " [ 1.69358213 31.54158076]\n",
      " [ 1.80357836 48.41400832]\n",
      " [ 1.73197977 40.4132948 ]]\n",
      "kmeans iteration 20\n",
      "kmeans CENTROIDS\n",
      " [[ 1.7429357  33.27182259]\n",
      " [ 1.73105021 25.48648649]\n",
      " [ 1.693029   31.52326365]\n",
      " [ 1.8045614  48.48380567]\n",
      " [ 1.73208777 40.40691489]]\n",
      "kmeans iteration 40\n",
      "kmeans CENTROIDS\n",
      " [[ 1.74300345 33.27616936]\n",
      " [ 1.73113717 25.48354169]\n",
      " [ 1.69249636 31.50562541]\n",
      " [ 1.80549277 48.5499343 ]\n",
      " [ 1.7321798  40.40147783]]\n",
      "kmeans iteration 60\n",
      "kmeans CENTROIDS\n",
      " [[ 1.7430704  33.28046454]\n",
      " [ 1.73122148 25.4806867 ]\n",
      " [ 1.69198311 31.48862898]\n",
      " [ 1.80637644 48.61267606]\n",
      " [ 1.73225917 40.39678899]]\n",
      "kmeans centroids: [[ 1.7430704  33.28046454]\n",
      " [ 1.73122148 25.4806867 ]\n",
      " [ 1.69198311 31.48862898]\n",
      " [ 1.80637644 48.61267606]\n",
      " [ 1.73225917 40.39678899]]\n",
      "kmeans points_clusters: [[ 1.74306707 33.280251  ]\n",
      " [ 1.73121733 25.48082738]\n",
      " [ 1.69200832 31.4894641 ]\n",
      " [ 1.80633333 48.60961538]\n",
      " [ 1.73225547 40.39700806]]\n",
      "kmeans ***********punto de salida @ 80\n",
      "\n",
      "\n"
     ]
    },
    {
     "data": {
      "text/plain": [
       "array([[1.00000000e+00, 2.51125295e+03],\n",
       "       [2.00000000e+00, 5.33713687e+03],\n",
       "       [3.00000000e+00, 7.65105443e+03],\n",
       "       [4.00000000e+00, 2.65636772e+04],\n",
       "       [5.00000000e+00, 3.39085072e+04]])"
      ]
     },
     "execution_count": 28,
     "metadata": {},
     "output_type": "execute_result"
    }
   ],
   "source": [
    "pruebas = 5\n",
    "max_iterations = 80\n",
    "sse_ncluster = np.empty((0, 2))\n",
    "for test in range(pruebas):\n",
    "    print(\"\\n\\nkmeans *** PRUEBA: {} ***\".format(test))\n",
    "    k = test + 1\n",
    "    iteration = 1\n",
    "    do_execute = True\n",
    "    points_clusters = get_points_clusters(k, iteration)   # (re)define los centros de cada cluster\n",
    "    dist_by_cluster = None\n",
    "    while (do_execute):\n",
    "        if ((iteration%checkpoint_at) == 0):\n",
    "            print(\"kmeans iteration\", iteration)\n",
    "        # se inicializan las variables que almacenan datos importantes.\n",
    "        dist_by_cluster = np.empty((0, k))   # para la distancia entre cada punto y cada cluster\n",
    "        d_each_cluster = []\n",
    "        for i in range(k):\n",
    "            d_each_cluster.append(np.empty((0)))   #to save set of distance from observed to cluster\n",
    "            observed_by_cluster.append(np.empty((0, 2)))   #2 in this case is for height and age\n",
    "\n",
    "        # para cada cluster k, determinar la distancia con cada punto observado\n",
    "        for nk in range(k):\n",
    "            # square root of distances between observed height and current cluster random height\n",
    "            sqr_distances_h = np.power( np.subtract(dataset[:,0], points_clusters[nk, 0]), 2)\n",
    "            # square root of distances between observed age and current cluster random age\n",
    "            sqr_distances_a = np.power( np.subtract(dataset[:,1], points_clusters[nk, 1]), 2)\n",
    "\n",
    "            sqr_distances_ha = sqr_distances_h.reshape(ds_rows, 1)\n",
    "            sqr_distances_ha = np.hstack( (sqr_distances_ha, np.atleast_2d(sqr_distances_a).T) )\n",
    "            dist = np.sum(sqr_distances_ha, axis=1)        \n",
    "            if (np.shape(dist_by_cluster)[0] == 0):\n",
    "                dist_by_cluster = dist.reshape(ds_rows, 1)\n",
    "            else:\n",
    "                dist_by_cluster = np.hstack( (dist_by_cluster, np.atleast_2d(dist).T))\n",
    "\n",
    "        # determinar la distancia menor entre cada punto y cada cluster.\n",
    "        for d_index, dist in enumerate(dist_by_cluster):\n",
    "            n_cluster = np.argmin(dist)\n",
    "            curr_cluster = d_each_cluster[n_cluster]\n",
    "            curr_cluster = np.append(curr_cluster, dist[n_cluster])\n",
    "            d_each_cluster[n_cluster] = curr_cluster\n",
    "            curr_cluster = observed_by_cluster[n_cluster]\n",
    "            curr_cluster = np.vstack((curr_cluster, dataset[d_index]))\n",
    "            observed_by_cluster[n_cluster] = curr_cluster\n",
    "\n",
    "        iteration = iteration + 1\n",
    "        centroids = get_points_clusters(k, iteration)\n",
    "        # condiciones de salida\n",
    "        if (iteration == max_iterations\n",
    "           or (centroids == points_clusters).all()):\n",
    "            do_execute = False\n",
    "            print(\"kmeans centroids:\", centroids)\n",
    "            print(\"kmeans points_clusters:\", points_clusters)\n",
    "            print(\"kmeans ***********punto de salida @ {}\\n\\n\".format(iteration))\n",
    "        points_clusters = centroids\n",
    "    \n",
    "    current_sse = np.sum(np.sum(dist_by_cluster, axis=0))\n",
    "    sse_ncluster = np.append(sse_ncluster, [[k, current_sse]], axis=0)\n"
   ]
  },
  {
   "cell_type": "markdown",
   "id": "e9b64aa1",
   "metadata": {},
   "source": [
    "## Análisis de gráfica de codo"
   ]
  },
  {
   "cell_type": "code",
   "execution_count": 29,
   "id": "17e1db97",
   "metadata": {},
   "outputs": [
    {
     "data": {
      "image/png": "[encoded data removed]",
      "text/plain": [
       "<Figure size 432x288 with 1 Axes>"
      ]
     },
     "metadata": {
      "needs_background": "light"
     },
     "output_type": "display_data"
    }
   ],
   "source": [
    "plt.plot(sse_ncluster[:,0], sse_ncluster[:,1], c=\"blue\")\n",
    "plt.title(\"Elbow curve\")\n",
    "plt.xlabel(\"K's\")\n",
    "plt.ylabel(\"SSE\")\n",
    "plt.show()"
   ]
  },
  {
   "cell_type": "markdown",
   "id": "92a64b65",
   "metadata": {},
   "source": [
    "## Selección del valor de K\n",
    "Luego de varias iteraciones y pruebas de ejecución, siempre se ha llegado a la misma conclusión acerca de que el valor óptimo para tomar como número de clústers es el **3**. Esto se puede aseverar al realizar un análisis de la gráfica de codo (*Elbow curve*). Pues aunque para nuestro caso particular el error va aumentando, hay un punto (cluster = 3), donde empieza a hacerlo mas abruptamente.  "
   ]
  },
  {
   "cell_type": "markdown",
   "id": "ce081ed7",
   "metadata": {},
   "source": [
    "## Análisis y conclusión\n",
    "Dadas las ejecuciones que realizamos para nuestro laboratorio y el análisis que se obtuvo de los distintos centroides obtenidos en las iteraciones junto con la gráfica de codo, podemos concluir que sí es válido utilizar el 'método del codo' para este problema.  "
   ]
  },
  {
   "cell_type": "markdown",
   "id": "d284ae64",
   "metadata": {},
   "source": [
    "# ESTIMACIONES/PREDICCIONES\n",
    "A continuación se realizarán algunas estimaciones a partir de datos de prueba.  "
   ]
  },
  {
   "cell_type": "code",
   "execution_count": 30,
   "id": "0f2a786d",
   "metadata": {},
   "outputs": [
    {
     "data": {
      "text/plain": [
       "array([[ 1.82, 25.  ],\n",
       "       [ 1.8 , 27.  ],\n",
       "       [ 1.6 , 31.  ],\n",
       "       [ 1.6 , 35.  ],\n",
       "       [ 1.82, 30.  ],\n",
       "       [ 1.76, 32.  ],\n",
       "       [ 1.79, 31.  ],\n",
       "       [ 1.61, 31.  ]])"
      ]
     },
     "execution_count": 30,
     "metadata": {},
     "output_type": "execute_result"
    }
   ],
   "source": [
    "valtest = np.loadtxt(\"estaturas.xlsx - valtest(normales).csv\", delimiter=',', skiprows=1)\n",
    "valtest"
   ]
  }
 ],
 "metadata": {
  "kernelspec": {
   "display_name": "Python 3",
   "language": "python",
   "name": "python3"
  },
  "language_info": {
   "codemirror_mode": {
    "name": "ipython",
    "version": 3
   },
   "file_extension": ".py",
   "mimetype": "text/x-python",
   "name": "python",
   "nbconvert_exporter": "python",
   "pygments_lexer": "ipython3",
   "version": "3.9.5"
  }
 },
 "nbformat": 4,
 "nbformat_minor": 5
}
