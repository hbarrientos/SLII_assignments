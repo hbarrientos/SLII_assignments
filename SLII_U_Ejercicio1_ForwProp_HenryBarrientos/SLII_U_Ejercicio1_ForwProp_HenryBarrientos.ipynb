{
 "cells": [
  {
   "cell_type": "markdown",
   "id": "1dad3d02",
   "metadata": {},
   "source": [
    "Universidad Galileo  \n",
    "Maestría en Data Science  \n",
    "Statistical Learning II\n",
    "Sección U  \n",
    "\n",
    "\n",
    "   # **Ejercicio 1: Forward propagation y análisis de representaciones intermedias**\n",
    "\n",
    "\n",
    "<p style=\"text-align: right;\">\n",
    "Henry Giovanni<br/>\n",
    "Barrientos García<br/>\n",
    "21001538<br/>\n",
    "Guatemala, 15 de agosto de 2021<br/>\n",
    "</p>"
   ]
  },
  {
   "cell_type": "markdown",
   "id": "6b47649a",
   "metadata": {},
   "source": [
    "## PROBLEMA 1\n",
    "Completar el ejercicio de forward-propagation para los 3 diagramas dados, en el tercer diagrama analizar la representación intermedia (ver descripción detallada en presentación 8). Aplicar operaciones vectorizadas\n",
    "<img src=\"NN_exercise1.png\" />"
   ]
  },
  {
   "cell_type": "code",
   "execution_count": 1,
   "id": "d1b629c8",
   "metadata": {},
   "outputs": [],
   "source": [
    "# python code"
   ]
  },
  {
   "cell_type": "markdown",
   "id": "59f6c3f0",
   "metadata": {},
   "source": [
    "## PROBLEMA 2\n",
    "¿Cuántos parámetros entrenables se tienen para cada uno de los modelos del conjunto de imágenes presentado abajo? \"Ejercicio conexiones neuronales (sinapsis)\"\n",
    "\n",
    "1. La red neuronal 1, tiene **tres** parámetros entrenables, uno por cada *input* de la neurona de salida.\n",
    "1. La red neuronal 2, tiene **tres** parámetros entrenables, uno por cada *output* de las neuronas de la primera capa mas el *bias*.\n",
    "1. La red neuronal 3, tiene **doce** parámetros entrenables, la multiplicación de 3 neuronas de la primera capa por 3 neuronas de la segunda (9); más la multiplicación de 3 neuronas de la segunda capa por 1 neurona de la tercera capa (+3 = 12).\n",
    "1. La red neuronal 4, tiene **seis** parámetros entrenables, 6 = 2\\*2 + 2\\*1\n",
    "1. La red neuronal 5, tiene **doce** parámetros entrenables, el producto de 3 neuronas del *input layer* por 4 neuronas del *hidden layer*, más el producto de 4 neuronas del *hidden layer* por 1 neurona del *output layer*.\n",
    "1. La red neuronal 5, tiene **veinte** parámetros entrenables, 3\\*4 + 4\\*2 = 20 parámetros."
   ]
  },
  {
   "cell_type": "markdown",
   "id": "bdadfcb4",
   "metadata": {},
   "source": [
    "||||\n",
    ":---: | :---: | :---:\n",
    "|<img src=\"NN1.png\" alt=\"NeuralNetwork1\" title=\"Neural network 1\" />|<img src=\"NN2.png\" alt=\"NeuralNetwork2\" title=\"Neural network 2\" />|<img src=\"NN3.png\" alt=\"NeuralNetwork3\" title=\"Neural network 3\" />|\n",
    "|Neural network 1|Neural network 2|Neural network 3|\n",
    "|<img src=\"NN4.png\" alt=\"NeuralNetwork4\" title=\"Neural network 4\" />|<img src=\"NN5.png\" alt=\"NeuralNetwork5\" title=\"Neural network 5\" />|<img src=\"NN6.png\" alt=\"NeuralNetwork6\" title=\"Neural network 6\" />|\n",
    "|Neural network 4|Neural network 5|Neural network 6|"
   ]
  }
 ],
 "metadata": {
  "kernelspec": {
   "display_name": "Python 3",
   "language": "python",
   "name": "python3"
  },
  "language_info": {
   "codemirror_mode": {
    "name": "ipython",
    "version": 3
   },
   "file_extension": ".py",
   "mimetype": "text/x-python",
   "name": "python",
   "nbconvert_exporter": "python",
   "pygments_lexer": "ipython3",
   "version": "3.9.5"
  }
 },
 "nbformat": 4,
 "nbformat_minor": 5
}
